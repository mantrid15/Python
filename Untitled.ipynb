{
 "cells": [
  {
   "cell_type": "code",
   "execution_count": 2,
   "id": "b36a2084-4c26-4784-84f4-f947fe2e3cd4",
   "metadata": {},
   "outputs": [],
   "source": [
    "import pandas as pd"
   ]
  },
  {
   "cell_type": "code",
   "execution_count": 3,
   "id": "42685a6e-bfaa-4e9c-8f03-cac1107e1082",
   "metadata": {},
   "outputs": [],
   "source": [
    "import numpy as np"
   ]
  },
  {
   "cell_type": "code",
   "execution_count": 4,
   "id": "67d3f5d5",
   "metadata": {},
   "outputs": [],
   "source": [
    "anime = pd.read_csv('C:/Users/Козловский/Documents/archive/anime.csv')\n",
    "rating = pd.read_csv('C:/Users/Козловский/Documents/archive/rating.csv')\n",
    "anime_modified = anime.set_index('name')"
   ]
  },
  {
   "cell_type": "code",
   "execution_count": 5,
   "id": "8f7e8b28",
   "metadata": {},
   "outputs": [
    {
     "name": "stdout",
     "output_type": "stream",
     "text": [
      "    user_id  anime_id  rating\n",
      "0         1        20      -1\n",
      "1         1        24      -1\n",
      "2         1        79      -1\n",
      "3         1       226      -1\n",
      "4         1       241      -1\n",
      "..      ...       ...     ...\n",
      "95        1     14749      -1\n",
      "96        1     14813      -1\n",
      "97        1     14833      -1\n",
      "98        1     14967      -1\n",
      "99        1     15117      -1\n",
      "\n",
      "[100 rows x 3 columns]\n"
     ]
    }
   ],
   "source": [
    "print(rating.head(100))"
   ]
  },
  {
   "cell_type": "code",
   "execution_count": 5,
   "id": "17175203",
   "metadata": {},
   "outputs": [],
   "source": [
    "animeCopy = anime.copy(deep=True)"
   ]
  },
  {
   "cell_type": "code",
   "execution_count": null,
   "id": "fa196fa9",
   "metadata": {},
   "outputs": [],
   "source": []
  }
 ],
 "metadata": {
  "kernelspec": {
   "display_name": "Python 3",
   "language": "python",
   "name": "python3"
  },
  "language_info": {
   "codemirror_mode": {
    "name": "ipython",
    "version": 3
   },
   "file_extension": ".py",
   "mimetype": "text/x-python",
   "name": "python",
   "nbconvert_exporter": "python",
   "pygments_lexer": "ipython3",
   "version": "3.8.7"
  }
 },
 "nbformat": 4,
 "nbformat_minor": 5
}
