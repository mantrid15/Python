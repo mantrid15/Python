{
 "cells": [
  {
   "cell_type": "code",
   "execution_count": 2,
   "id": "e2a646d8",
   "metadata": {},
   "outputs": [],
   "source": [
    "import pandas as pd\n",
    "import numpy as np"
   ]
  },
  {
   "cell_type": "code",
   "execution_count": 3,
   "id": "7ddd2023",
   "metadata": {},
   "outputs": [],
   "source": [
    "# anime = pd.read_csv('C:/Users/Козловский/Documents/archive/anime.csv')\n",
    "# rating = pd.read_csv('C:/Users/Козловский/Documents/archive/rating.csv')\n",
    "# print(anime.tail(10))\n",
    "# path_to_table = 'X:/аналитика/Отчеты/Автоматы по конкурентам/'\n",
    "# table_date = '01.02.21'\n",
    "# table_name = '/'+'newAvtomatNTM'\n",
    "# table_ext = '.xlsx'\n",
    "# full_name = path_to_table+table_date+table_name+table_ext\n"
   ]
  },
  {
   "cell_type": "code",
   "execution_count": 12,
   "id": "9ce91ce6",
   "metadata": {},
   "outputs": [],
   "source": [
    "file_name = 'X:/аналитика/Отчеты/Автоматы по конкурентам/01.02.21/newAvtomatNTM.xlsx'\n",
    "my_table = pd.read_excel(io=file_name,  engine='openpyxl', sheet_name='ОБЪЕКТЫ')"
   ]
  },
  {
   "cell_type": "code",
   "execution_count": 14,
   "id": "1e4db363",
   "metadata": {},
   "outputs": [],
   "source": [
    "# print(my_table.tail(10))"
   ]
  },
  {
   "cell_type": "code",
   "execution_count": 15,
   "id": "8d3a06fd",
   "metadata": {},
   "outputs": [],
   "source": [
    "# print(my_table.columns)"
   ]
  },
  {
   "cell_type": "code",
   "execution_count": null,
   "id": "40813caa",
   "metadata": {},
   "outputs": [],
   "source": []
  }
 ],
 "metadata": {
  "kernelspec": {
   "display_name": "Python 3",
   "language": "python",
   "name": "python3"
  },
  "language_info": {
   "codemirror_mode": {
    "name": "ipython",
    "version": 3
   },
   "file_extension": ".py",
   "mimetype": "text/x-python",
   "name": "python",
   "nbconvert_exporter": "python",
   "pygments_lexer": "ipython3",
   "version": "3.8.7"
  }
 },
 "nbformat": 4,
 "nbformat_minor": 5
}
